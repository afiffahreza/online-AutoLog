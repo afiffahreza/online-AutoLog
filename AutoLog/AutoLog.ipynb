{
  "cells": [
    {
      "cell_type": "markdown",
      "metadata": {
        "id": "view-in-github",
        "colab_type": "text"
      },
      "source": [
        "<a href=\"https://colab.research.google.com/github/afiffahreza/online-AutoLog/blob/main/AutoLog/AutoLog.ipynb\" target=\"_parent\"><img src=\"https://colab.research.google.com/assets/colab-badge.svg\" alt=\"Open In Colab\"/></a>"
      ]
    },
    {
      "cell_type": "markdown",
      "metadata": {
        "id": "aFszj1MZZ5Uj"
      },
      "source": [
        "# AutoLog Model Training\n",
        "Notebook for testing the deep autoencoder used in AutoLog"
      ]
    },
    {
      "cell_type": "markdown",
      "source": [
        "## Environment"
      ],
      "metadata": {
        "id": "dWfi-ypKcd9L"
      }
    },
    {
      "cell_type": "code",
      "source": [
        "env = 'colab' # change if running the notebook from local"
      ],
      "metadata": {
        "id": "7l8ux-XbcgGi"
      },
      "execution_count": 3,
      "outputs": []
    },
    {
      "cell_type": "markdown",
      "source": [
        "## Install Libraries"
      ],
      "metadata": {
        "id": "k_oQjVSpaCrh"
      }
    },
    {
      "cell_type": "code",
      "source": [
        "import numpy as np\n",
        "import pandas as pd\n",
        "import matplotlib as mpl\n",
        "import matplotlib.pyplot as plt\n",
        "import tensorflow as tf\n",
        "import sys\n",
        "from keras.models import Model\n",
        "from keras.utils import plot_model\n",
        "from keras.layers import Input, Dense, Dropout\n",
        "from keras import regularizers, initializers\n",
        "from sklearn.metrics import confusion_matrix, roc_curve\n",
        "import seaborn as sns\n",
        "from pathlib import Path\n",
        "from numpy import sqrt, argmax\n",
        "from time import time"
      ],
      "metadata": {
        "id": "IRBGvghSaHSK"
      },
      "execution_count": 2,
      "outputs": []
    }
  ],
  "metadata": {
    "language_info": {
      "name": "python"
    },
    "orig_nbformat": 4,
    "colab": {
      "provenance": [],
      "include_colab_link": true
    },
    "kernelspec": {
      "name": "python3",
      "display_name": "Python 3"
    },
    "gpuClass": "standard"
  },
  "nbformat": 4,
  "nbformat_minor": 0
}